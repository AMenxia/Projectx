{
 "cells": [
  {
   "cell_type": "code",
   "execution_count": 1,
   "id": "e4c745fb",
   "metadata": {},
   "outputs": [
    {
     "name": "stdout",
     "output_type": "stream",
     "text": [
      "7.410530405616347% of disk space is free\n",
      "37.6% of CPU is being used\n",
      "CPU is healthy\n"
     ]
    }
   ],
   "source": [
    "import shutil\n",
    "import psutil\n",
    "def check_disk_usage():\n",
    "    du= shutil.disk_usage(\"/\")\n",
    "    free = du.free/du.total*100\n",
    "    print( (\"{}% of disk space is free\").format(free))\n",
    "\n",
    "def check_cpu_usage():\n",
    "    print( str(psutil.cpu_percent(2)) + \"% of CPU is being used\")\n",
    "    if psutil.cpu_percent(2)<70:\n",
    "        print (\"CPU is healthy\")\n",
    "    else:\n",
    "        print(\"He's struggling Jim X0\")\n",
    "\n",
    "check_disk_usage()\n",
    "check_cpu_usage()"
   ]
  },
  {
   "cell_type": "code",
   "execution_count": 4,
   "id": "742a5395",
   "metadata": {},
   "outputs": [],
   "source": [
    "emplye_list = \"employees.csv\"\n",
    "\n",
    "\n"
   ]
  },
  {
   "cell_type": "code",
   "execution_count": 6,
   "id": "77b2814c",
   "metadata": {},
   "outputs": [
    {
     "ename": "SyntaxError",
     "evalue": "invalid syntax (Temp/ipykernel_25896/3029816446.py, line 2)",
     "output_type": "error",
     "traceback": [
      "\u001b[1;36m  File \u001b[1;32m\"C:\\Users\\amenx\\AppData\\Local\\Temp/ipykernel_25896/3029816446.py\"\u001b[1;36m, line \u001b[1;32m2\u001b[0m\n\u001b[1;33m    print(result)\u001b[0m\n\u001b[1;37m    ^\u001b[0m\n\u001b[1;31mSyntaxError\u001b[0m\u001b[1;31m:\u001b[0m invalid syntax\n"
     ]
    }
   ],
   "source": [
    "import re\n",
    "result = re.search(r\"^(\\w*), (\\w*)$)\", \"Lovelace, Ada\"\n",
    "print(result)"
   ]
  },
  {
   "cell_type": "code",
   "execution_count": null,
   "id": "039c4883",
   "metadata": {},
   "outputs": [],
   "source": []
  }
 ],
 "metadata": {
  "kernelspec": {
   "display_name": "Python 3 (ipykernel)",
   "language": "python",
   "name": "python3"
  },
  "language_info": {
   "codemirror_mode": {
    "name": "ipython",
    "version": 3
   },
   "file_extension": ".py",
   "mimetype": "text/x-python",
   "name": "python",
   "nbconvert_exporter": "python",
   "pygments_lexer": "ipython3",
   "version": "3.9.7"
  }
 },
 "nbformat": 4,
 "nbformat_minor": 5
}
