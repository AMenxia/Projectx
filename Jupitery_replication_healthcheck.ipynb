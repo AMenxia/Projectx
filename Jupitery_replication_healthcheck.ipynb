{
 "cells": [
  {
   "cell_type": "code",
   "execution_count": 1,
   "id": "429b0140",
   "metadata": {},
   "outputs": [
    {
     "name": "stdout",
     "output_type": "stream",
     "text": [
      "7.410530405616347% of disk space is free\n",
      "37.6% of CPU is being used\n",
      "CPU is healthy\n"
     ]
    }
   ],
   "source": [
    "import shutil\n",
    "import psutil\n",
    "def check_disk_usage():\n",
    "    du= shutil.disk_usage(\"/\")\n",
    "    free = du.free/du.total*100\n",
    "    print( (\"{}% of disk space is free\").format(free))\n",
    "\n",
    "def check_cpu_usage():\n",
    "    print( str(psutil.cpu_percent(2)) + \"% of CPU is being used\")\n",
    "    if psutil.cpu_percent(2)<70:\n",
    "        print (\"CPU is healthy\")\n",
    "    else:\n",
    "        print(\"He's struggling Jim X0\")\n",
    "\n",
    "check_disk_usage()\n",
    "check_cpu_usage()"
   ]
  },
  {
   "cell_type": "code",
   "execution_count": null,
   "id": "a4e5371a",
   "metadata": {},
   "outputs": [],
   "source": []
  }
 ],
 "metadata": {
  "kernelspec": {
   "display_name": "Python 3 (ipykernel)",
   "language": "python",
   "name": "python3"
  },
  "language_info": {
   "codemirror_mode": {
    "name": "ipython",
    "version": 3
   },
   "file_extension": ".py",
   "mimetype": "text/x-python",
   "name": "python",
   "nbconvert_exporter": "python",
   "pygments_lexer": "ipython3",
   "version": "3.9.7"
  }
 },
 "nbformat": 4,
 "nbformat_minor": 5
}
