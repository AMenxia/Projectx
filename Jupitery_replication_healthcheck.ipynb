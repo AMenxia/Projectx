{
 "cells": [
  {
   "cell_type": "code",
   "execution_count": 1,
   "id": "1376d033",
   "metadata": {},
   "outputs": [
    {
     "name": "stdout",
     "output_type": "stream",
     "text": [
      "7.40592424527209% of disk space is free\n",
      "12.1% of CPU is being used\n",
      "CPU is healthy\n"
     ]
    }
   ],
   "source": [
    "import shutil\n",
    "import psutil\n",
    "def check_disk_usage():\n",
    "    du= shutil.disk_usage(\"/\")\n",
    "    free = du.free/du.total*100\n",
    "    print( (\"{}% of disk space is free\").format(free))\n",
    "\n",
    "def check_cpu_usage():\n",
    "    print( str(psutil.cpu_percent(2)) + \"% of CPU is being used\")\n",
    "    if psutil.cpu_percent(2)<70:\n",
    "        print (\"CPU is healthy\")\n",
    "    else:\n",
    "        print(\"He's struggling Jim X0\")\n",
    "\n",
    "check_disk_usage()\n",
    "check_cpu_usage()"
   ]
  },
  {
   "cell_type": "code",
   "execution_count": 2,
   "id": "5100a5d0",
   "metadata": {},
   "outputs": [],
   "source": [
    "emplye_list = \"employees.csv\"\n",
    "\n",
    "\n"
   ]
  },
  {
   "cell_type": "markdown",
   "id": "dca58ae9",
   "metadata": {},
   "source": [
    "*Getting Numbers From brackets*"
   ]
  },
  {
   "cell_type": "code",
   "execution_count": 12,
   "id": "9c23f606",
   "metadata": {},
   "outputs": [
    {
     "name": "stdout",
     "output_type": "stream",
     "text": [
      "12345\n"
     ]
    }
   ],
   "source": [
    "import re\n",
    "log = \"bad_process[12345]: ERROR\"\n",
    "regex = r\"\\[(\\d+)\\]\"\n",
    "result = re.search (regex, log)\n",
    "print(result[1])"
   ]
  },
  {
   "cell_type": "code",
   "execution_count": null,
   "id": "a5ce6398",
   "metadata": {},
   "outputs": [],
   "source": []
  }
 ],
 "metadata": {
  "kernelspec": {
   "display_name": "Python 3 (ipykernel)",
   "language": "python",
   "name": "python3"
  },
  "language_info": {
   "codemirror_mode": {
    "name": "ipython",
    "version": 3
   },
   "file_extension": ".py",
   "mimetype": "text/x-python",
   "name": "python",
   "nbconvert_exporter": "python",
   "pygments_lexer": "ipython3",
   "version": "3.9.7"
  }
 },
 "nbformat": 4,
 "nbformat_minor": 5
}
